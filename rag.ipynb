{
 "cells": [
  {
   "cell_type": "code",
   "execution_count": null,
   "id": "93d9f95c",
   "metadata": {},
   "outputs": [],
   "source": [
    "import os\n",
    "import numpy as np\n",
    "from openai import OpenAI\n",
    "import chromadb\n",
    "from chromadb.api.types import EmbeddingFunction\n",
    "\n",
    "# ========= Config =========\n",
    "GITHUB_TOKEN = os.getenv(\"GITHUB_TOKEN\")\n",
    "assert GITHUB_TOKEN, \"Falta GITHUB_TOKEN\"\n",
    "GITHUB_ENDPOINT = \"https://models.github.ai/inference\"\n",
    "LLM_MODEL = \"openai/gpt-4.1\"                 # Chat/LLM\n",
    "EMB_MODEL = \"openai/text-embedding-3-small\"  # Embeddings\n",
    "\n",
    "# ========= Clientes =========\n",
    "llm_client = OpenAI(base_url=GITHUB_ENDPOINT, api_key=GITHUB_TOKEN)\n",
    "\n",
    "# 👉 Deja que el token decida tenant/database\n",
    "chroma = chromadb.CloudClient(api_key=os.getenv(\"CHROMADB_TOKEN\"))\n",
    "\n",
    "# ========= Wrapper de Embeddings para Chroma (GitHub Models) =========\n",
    "class GithubOpenAIEmbeddingFunction(EmbeddingFunction[str]):\n",
    "    def __init__(self, client: OpenAI, model: str):\n",
    "        self.client = client\n",
    "        self.model = model\n",
    "\n",
    "    def __call__(self, inputs):\n",
    "        if isinstance(inputs, str):\n",
    "            inputs = [inputs]\n",
    "        resp = self.client.embeddings.create(model=self.model, input=inputs)\n",
    "        return [np.array(item.embedding, dtype=np.float32) for item in resp.data]\n",
    "\n",
    "emb_fn = GithubOpenAIEmbeddingFunction(llm_client, EMB_MODEL)"
   ]
  },
  {
   "cell_type": "code",
   "execution_count": null,
   "id": "6dd654dc",
   "metadata": {},
   "outputs": [],
   "source": [
    "# =========  LLM =========\n",
    "chat = llm_client.chat.completions.create(\n",
    "    model=LLM_MODEL,\n",
    "    messages=[\n",
    "        {\"role\": \"system\", \"content\": \"Eres un asistente útil y conciso.\"},\n",
    "        {\"role\": \"user\", \"content\": \"¿Cuál es la capital de Francia\"}\n",
    "    ]\n",
    ")"
   ]
  },
  {
   "cell_type": "code",
   "execution_count": null,
   "id": "8bca980e",
   "metadata": {},
   "outputs": [],
   "source": [
    "print(chat.choices[0].message.content.strip())"
   ]
  },
  {
   "cell_type": "code",
   "execution_count": null,
   "id": "51ab54db",
   "metadata": {},
   "outputs": [],
   "source": [
    "collection_name = \"document_qa_collection\"\n",
    "\n",
    "collection = chroma.get_or_create_collection(\n",
    "    name=collection_name,\n",
    "    embedding_function=emb_fn,   # tu wrapper de embeddings\n",
    ")\n",
    "\n",
    "print(\"Colección lista:\", collection.name)  \n"
   ]
  }
 ],
 "metadata": {
  "kernelspec": {
   "display_name": "Python 3",
   "language": "python",
   "name": "python3"
  },
  "language_info": {
   "codemirror_mode": {
    "name": "ipython",
    "version": 3
   },
   "file_extension": ".py",
   "mimetype": "text/x-python",
   "name": "python",
   "nbconvert_exporter": "python",
   "pygments_lexer": "ipython3",
   "version": "3.10.18"
  }
 },
 "nbformat": 4,
 "nbformat_minor": 5
}
